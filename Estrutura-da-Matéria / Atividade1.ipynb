{
  "nbformat": 4,
  "nbformat_minor": 0,
  "metadata": {
    "colab": {
      "name": "Untitled2.ipynb",
      "provenance": [],
      "include_colab_link": true
    },
    "kernelspec": {
      "name": "python3",
      "display_name": "Python 3"
    }
  },
  "cells": [
    {
      "cell_type": "markdown",
      "metadata": {
        "id": "view-in-github",
        "colab_type": "text"
      },
      "source": [
        "<a href=\"https://colab.research.google.com/github/danielleclessa/Disciplinas-UERJ/blob/main/Estrutura-da-Mat%C3%A9ria%20/%20Atividade1.ipynb\" target=\"_parent\"><img src=\"https://colab.research.google.com/assets/colab-badge.svg\" alt=\"Open In Colab\"/></a>"
      ]
    },
    {
      "cell_type": "code",
      "metadata": {
        "id": "w4ZhH6i1jHqS"
      },
      "source": [
        "import numpy as np\n",
        "\n",
        "def lsq_sq(x, y):\n",
        "    if not isinstance(x, np.ndarray):\n",
        "        x = np.array(x)\n",
        "    \n",
        "    if not isinstance(y, np.ndarray):\n",
        "        y = np.array(y)\n",
        "\n",
        "    if np.size(x) != np.size(y):\n",
        "        return None\n",
        "    \n",
        "    n = np.size(x)\n",
        "    mx, my = np.mean(x), np.mean(y)\n",
        "\n",
        "    cov = np.mean(x * y) - mx * my\n",
        "    var = np.var(x)\n",
        "\n",
        "    a = cov / var\n",
        "    b = my - a * mx\n",
        "\n",
        "    ey = np.sqrt(np.sum(np.power(y - (a * x + b), 2) / (n - 2)))\n",
        "\n",
        "    error_a = ey / (np.sqrt(var) * np.sqrt(n))\n",
        "    error_b = error_a * np.sqrt(np.mean(np.power(x, 2)))\n",
        "\n",
        "    return a, error_a, b, error_b"
      ],
      "execution_count": null,
      "outputs": []
    },
    {
      "cell_type": "code",
      "metadata": {
        "id": "5G31FO_6jSIp",
        "outputId": "b79fa895-aa7c-4bd2-8750-6be73f4e0a77",
        "colab": {
          "base_uri": "https://localhost:8080/",
          "height": 299
        }
      },
      "source": [
        "import matplotlib.pyplot as plt\n",
        "\n",
        "D = (277.3 - 8) / 100\n",
        "d = np.array([0.25, 0.50, 0.25, 0.50]) / 1000\n",
        "\n",
        "x = D / d\n",
        "y = (np.array([2.7, 3.1, 2.1, 1.8]) / np.array([4, 9, 3, 5])) / 100\n",
        "\n",
        "param = lsq_sq(x, y)\n",
        "print(\"y = ({} +- {}).x + ({} +- {})\".format(*param))\n",
        "\n",
        "plt.scatter(x, y)"
      ],
      "execution_count": null,
      "outputs": [
        {
          "output_type": "stream",
          "text": [
            "y = (6.224986590749677e-07 +- 2.733424103643192e-08).x + (0.00016944444444444776 +- 0.0002327787722068392)\n"
          ],
          "name": "stdout"
        },
        {
          "output_type": "execute_result",
          "data": {
            "text/plain": [
              "<matplotlib.collections.PathCollection at 0x7f3cd398b048>"
            ]
          },
          "metadata": {
            "tags": []
          },
          "execution_count": 15
        },
        {
          "output_type": "display_data",
          "data": {
            "image/png": "[encoded data removed]",
            "text/plain": [
              "<Figure size 432x288 with 1 Axes>"
            ]
          },
          "metadata": {
            "tags": [],
            "needs_background": "light"
          }
        }
      ]
    }
  ]
}