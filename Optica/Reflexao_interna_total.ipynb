{
  "nbformat": 4,
  "nbformat_minor": 0,
  "metadata": {
    "colab": {
      "name": "Reflexão-interna-total.ipynb",
      "provenance": [],
      "include_colab_link": true
    },
    "kernelspec": {
      "name": "python3",
      "display_name": "Python 3"
    }
  },
  "cells": [
    {
      "cell_type": "markdown",
      "metadata": {
        "id": "view-in-github",
        "colab_type": "text"
      },
      "source": [
        "<a href=\"https://colab.research.google.com/github/danielleclessa/Disciplinas-UERJ/blob/main/Optica/Reflexao_interna_total.ipynb\" target=\"_parent\"><img src=\"https://colab.research.google.com/assets/colab-badge.svg\" alt=\"Open In Colab\"/></a>"
      ]
    },
    {
      "cell_type": "code",
      "metadata": {
        "id": "CWNUuSgZpA0N",
        "outputId": "8ef7d757-5298-4537-a58b-ff95ff0760a1",
        "colab": {
          "base_uri": "https://localhost:8080/",
          "height": 68
        }
      },
      "source": [
        "import numpy as np\n",
        "\n",
        "theta_i = np.array([4.5, 10, 15, 20, 24.5, 30, 34])\n",
        "theta_t = np.array([7, 15, 22.5, 30.5, 38.5, 47.5, 56.5])\n",
        "#ni = 1 \n",
        "nt = 1\n",
        "\n",
        "#def refracao(nt, mt):\n",
        "#  nt = ni * np.sin(theta_i * np.pi / 180)/np.sin(theta_t * np.pi / 180)\n",
        "#  mt = np.mean(nt)\n",
        "#  print(nt, mt)\n",
        "#def erro_refracao(valor_t, valor_exp):\n",
        "#  print('O erro percentual é dado por', (abs(valor_t - valor_exp)/valor_t)*100)\n",
        "#erro_refracao(1.49, 0.6762505256176594)\n",
        "#refracao(nt,mt)\n",
        "\n",
        "def refracao(ni,mi):\n",
        "  ni = nt * np.sin(theta_t * np.pi / 180)/np.sin(theta_i * np.pi / 180)\n",
        "  mi = np.mean(ni)\n",
        "  return ni, mi\n",
        "  print(mi)\n",
        "def erro_refracao(valor_t, valor_exp):\n",
        "  print('O erro percentual é dado por', (abs(valor_t - valor_exp)/valor_t)*100)\n",
        "\n",
        "erro_refracao(1.49, 1.4961733299519362)\n",
        "refracao(ni, mi)\n"
      ],
      "execution_count": null,
      "outputs": [
        {
          "output_type": "stream",
          "text": [
            "O erro percentual é dado por 0.41431744643867124\n"
          ],
          "name": "stdout"
        },
        {
          "output_type": "execute_result",
          "data": {
            "text/plain": [
              "(array([1.55328509, 1.49047948, 1.47857524, 1.4839429 , 1.50114488,\n",
              "        1.47455467, 1.49123105]), 1.4961733299519362)"
            ]
          },
          "metadata": {
            "tags": []
          },
          "execution_count": 11
        }
      ]
    },
    {
      "cell_type": "code",
      "metadata": {
        "id": "euMWcVVXdSkv",
        "outputId": "e0287bd7-1490-4873-bc43-6705647abe29",
        "colab": {
          "base_uri": "https://localhost:8080/",
          "height": 34
        }
      },
      "source": [
        "np.arcsin(1/1.4961733299519362) #âng. crítico exp."
      ],
      "execution_count": null,
      "outputs": [
        {
          "output_type": "execute_result",
          "data": {
            "text/plain": [
              "0.7320176245374512"
            ]
          },
          "metadata": {
            "tags": []
          },
          "execution_count": 12
        }
      ]
    },
    {
      "cell_type": "markdown",
      "metadata": {
        "id": "oliPf1ROv3uf"
      },
      "source": [
        ""
      ]
    },
    {
      "cell_type": "code",
      "metadata": {
        "id": "j9Hk-9lxT7M_",
        "outputId": "d5057846-29e2-4545-90e5-8ebccb62b35e",
        "colab": {
          "base_uri": "https://localhost:8080/",
          "height": 34
        }
      },
      "source": [
        "np.arcsin(1/1.49) #âng. crítico teórico"
      ],
      "execution_count": null,
      "outputs": [
        {
          "output_type": "execute_result",
          "data": {
            "text/plain": [
              "0.7357467619614884"
            ]
          },
          "metadata": {
            "tags": []
          },
          "execution_count": 60
        }
      ]
    },
    {
      "cell_type": "code",
      "metadata": {
        "id": "uqzCMimFYndK",
        "outputId": "ccb1d4aa-5b85-40cb-937a-eecdb6ad4c97",
        "colab": {
          "base_uri": "https://localhost:8080/",
          "height": 34
        }
      },
      "source": [
        "def erro_refracao(valor_t, valor_exp): #comparação entre os âng. críticos\n",
        "  print('O erro percentual é dado por', (abs(valor_t - valor_exp)/valor_t)*100)\n",
        "\n",
        "erro_refracao(42.1551842508097, 41.94152041518808)"
      ],
      "execution_count": 4,
      "outputs": [
        {
          "output_type": "stream",
          "text": [
            "O erro percentual é dado por 0.5068506742857203\n"
          ],
          "name": "stdout"
        }
      ]
    },
    {
      "cell_type": "code",
      "metadata": {
        "id": "jvzUbgErdeQE",
        "outputId": "d5c05920-38f4-45f5-89a2-ba2dc42533a3",
        "colab": {
          "base_uri": "https://localhost:8080/",
          "height": 34
        }
      },
      "source": [
        "#Transformar Rad. para Graus - âng. c. exp.:\n",
        "\n",
        "(0.7320176245374512*180/3.1415926535897932)"
      ],
      "execution_count": 1,
      "outputs": [
        {
          "output_type": "execute_result",
          "data": {
            "text/plain": [
              "41.94152041518808"
            ]
          },
          "metadata": {
            "tags": []
          },
          "execution_count": 1
        }
      ]
    },
    {
      "cell_type": "code",
      "metadata": {
        "id": "rdWwXRhzZLOf",
        "outputId": "9414091e-11b8-41c9-d7e5-56f7a0052c98",
        "colab": {
          "base_uri": "https://localhost:8080/",
          "height": 34
        }
      },
      "source": [
        "#Transformar Rad. para Graus - âng. c. teó.:\n",
        "\n",
        "(0.7357467619614884*180/3.1415926535897932)"
      ],
      "execution_count": 2,
      "outputs": [
        {
          "output_type": "execute_result",
          "data": {
            "text/plain": [
              "42.1551842508097"
            ]
          },
          "metadata": {
            "tags": []
          },
          "execution_count": 2
        }
      ]
    }
  ]
}